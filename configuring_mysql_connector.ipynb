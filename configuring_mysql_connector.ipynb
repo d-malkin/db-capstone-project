{
 "cells": [
  {
   "cell_type": "code",
   "execution_count": 84,
   "id": "4a7cc4ab",
   "metadata": {},
   "outputs": [
    {
     "name": "stdout",
     "output_type": "stream",
     "text": [
      "Requirement already satisfied: mysql-connector-python in /Library/Frameworks/Python.framework/Versions/3.11/lib/python3.11/site-packages (8.0.32)\n",
      "Requirement already satisfied: protobuf<=3.20.3,>=3.11.0 in /Library/Frameworks/Python.framework/Versions/3.11/lib/python3.11/site-packages (from mysql-connector-python) (3.20.3)\n",
      "\n",
      "\u001b[1m[\u001b[0m\u001b[34;49mnotice\u001b[0m\u001b[1;39;49m]\u001b[0m\u001b[39;49m A new release of pip available: \u001b[0m\u001b[31;49m22.3.1\u001b[0m\u001b[39;49m -> \u001b[0m\u001b[32;49m23.0\u001b[0m\n",
      "\u001b[1m[\u001b[0m\u001b[34;49mnotice\u001b[0m\u001b[1;39;49m]\u001b[0m\u001b[39;49m To update, run: \u001b[0m\u001b[32;49mpip install --upgrade pip\u001b[0m\n"
     ]
    }
   ],
   "source": [
    "!pip install mysql-connector-python"
   ]
  },
  {
   "cell_type": "code",
   "execution_count": 85,
   "id": "e8fea56a",
   "metadata": {},
   "outputs": [],
   "source": [
    "import mysql.connector as connector"
   ]
  },
  {
   "cell_type": "code",
   "execution_count": 98,
   "id": "0e4e6337",
   "metadata": {},
   "outputs": [],
   "source": [
    "mydb = connector.connect(\n",
    "  user=\"newuser\",\n",
    "  password=\"password\",\n",
    "    host='127.0.0.1',\n",
    "    database='LittleLemonDB'\n",
    ")"
   ]
  },
  {
   "cell_type": "code",
   "execution_count": 99,
   "id": "6d829f3d",
   "metadata": {},
   "outputs": [
    {
     "name": "stdout",
     "output_type": "stream",
     "text": [
      "<mysql.connector.connection_cext.CMySQLConnection object at 0x1060aadd0>\n"
     ]
    }
   ],
   "source": [
    "print(mydb)"
   ]
  },
  {
   "cell_type": "code",
   "execution_count": 100,
   "id": "049fcdaa",
   "metadata": {},
   "outputs": [],
   "source": [
    "cursor = mydb.cursor()"
   ]
  },
  {
   "cell_type": "code",
   "execution_count": 101,
   "id": "81e46d30",
   "metadata": {},
   "outputs": [
    {
     "name": "stdout",
     "output_type": "stream",
     "text": [
      "('information_schema',)\n",
      "('little_lemon_db',)\n",
      "('LittleLemonDB',)\n",
      "('magnata_gallo',)\n",
      "('mysql',)\n",
      "('performance_schema',)\n",
      "('sys',)\n"
     ]
    }
   ],
   "source": [
    "cursor.execute(\"show databases;\")\n",
    "for x in cursor:\n",
    "    print(x)"
   ]
  },
  {
   "cell_type": "code",
   "execution_count": 102,
   "id": "10ecb86f",
   "metadata": {},
   "outputs": [],
   "source": [
    "cursor.execute(\"use LittleLemonDB\")"
   ]
  },
  {
   "cell_type": "code",
   "execution_count": 103,
   "id": "287c47a2",
   "metadata": {},
   "outputs": [
    {
     "name": "stdout",
     "output_type": "stream",
     "text": [
      "('Booking',)\n",
      "('Customers',)\n",
      "('DeliveryStatus',)\n",
      "('Menu',)\n",
      "('Orders',)\n",
      "('ordersview',)\n",
      "('ordersview2',)\n",
      "('Staff',)\n"
     ]
    }
   ],
   "source": [
    "show_tables_query = \"SHOW tables\" \n",
    "cursor.execute(show_tables_query)\n",
    "for x in cursor:\n",
    "    print(x)"
   ]
  },
  {
   "cell_type": "code",
   "execution_count": 105,
   "id": "9abcf76b",
   "metadata": {},
   "outputs": [
    {
     "name": "stdout",
     "output_type": "stream",
     "text": [
      "('BookingID', b'int', 'NO', 'PRI', None, '')\n",
      "('Date', b'datetime', 'NO', '', None, '')\n",
      "('TableNumber', b'int', 'NO', '', None, '')\n"
     ]
    }
   ],
   "source": [
    "cursor.execute(\"Show columns from Booking;\")\n",
    "for x in cursor:\n",
    "    print(x)"
   ]
  },
  {
   "cell_type": "code",
   "execution_count": 107,
   "id": "10064094",
   "metadata": {},
   "outputs": [
    {
     "name": "stdout",
     "output_type": "stream",
     "text": [
      "('BookingID', b'int', 'NO', 'PRI', None, '')\n",
      "('Date', b'datetime', 'NO', '', None, '')\n",
      "('TableNumber', b'int', 'NO', '', None, '')\n"
     ]
    }
   ],
   "source": [
    "cursor.execute(\"describe Booking;\")\n",
    "for x in cursor:\n",
    "    print(x)"
   ]
  },
  {
   "cell_type": "code",
   "execution_count": 108,
   "id": "974e900a",
   "metadata": {},
   "outputs": [
    {
     "name": "stdout",
     "output_type": "stream",
     "text": [
      "('OrderID', b'int', 'NO', 'PRI', None, '')\n",
      "('Date', b'datetime', 'NO', '', None, '')\n",
      "('Quantity', b'int', 'NO', '', None, '')\n",
      "('TotalCost', b'varchar(45)', 'YES', '', None, '')\n",
      "('BookingID', b'int', 'NO', 'MUL', None, '')\n",
      "('CustomerID', b'int', 'NO', 'PRI', None, '')\n",
      "('MenuID', b'int', 'NO', 'PRI', None, '')\n",
      "('DeliveryID', b'int', 'NO', 'PRI', None, '')\n"
     ]
    }
   ],
   "source": [
    "cursor.execute(\"describe Orders;\")\n",
    "for x in cursor:\n",
    "    print(x)"
   ]
  },
  {
   "cell_type": "code",
   "execution_count": 111,
   "id": "7e37d1f1",
   "metadata": {},
   "outputs": [],
   "source": [
    "selectquery = \"\"\"SELECT Customers.FullName, Customers.ContactNumber FROM Customers\n",
    "                    INNER JOIN Orders\n",
    "                    ON Customers.CustomerID = Orders.CustomerID\n",
    "                    WHERE Orders.TotalCost > 60;\"\"\"\n",
    "cursor.execute(selectquery)\n",
    "for x in cursor:\n",
    "    print(x)"
   ]
  },
  {
   "cell_type": "code",
   "execution_count": 112,
   "id": "4d0ff59b",
   "metadata": {},
   "outputs": [
    {
     "name": "stdout",
     "output_type": "stream",
     "text": [
      "(None,)\n"
     ]
    }
   ],
   "source": [
    "cursor.execute(\"\"\"CALL GetMaxQuantity();\"\"\")\n",
    "for y in cursor:\n",
    "    print(y)"
   ]
  }
 ],
 "metadata": {
  "kernelspec": {
   "display_name": "Python 3 (ipykernel)",
   "language": "python",
   "name": "python3"
  },
  "language_info": {
   "codemirror_mode": {
    "name": "ipython",
    "version": 3
   },
   "file_extension": ".py",
   "mimetype": "text/x-python",
   "name": "python",
   "nbconvert_exporter": "python",
   "pygments_lexer": "ipython3",
   "version": "3.11.0"
  }
 },
 "nbformat": 4,
 "nbformat_minor": 5
}
